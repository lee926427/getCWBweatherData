{
 "cells": [
  {
   "cell_type": "code",
   "execution_count": 60,
   "metadata": {},
   "outputs": [],
   "source": [
    "import requests\n",
    "import json\n",
    "import pandas as pd"
   ]
  },
  {
   "cell_type": "code",
   "execution_count": 1,
   "metadata": {},
   "outputs": [],
   "source": [
    "class CwbOpenData():\n",
    "    def __init__(self,auth):\n",
    "        self.__url = \"https://opendata.cwb.gov.tw/fileapi/v1/opendataapi/O-A0003-001?Authorization={}&downloadType=WEB&format=JSON\".format(auth)\n",
    "    def update(self):\n",
    "        '''\n",
    "        self.__res = requests.get(self.__url)\n",
    "        print(self.__res.status_code)\n",
    "        \n",
    "        if self.__res.status_code == requests.codes.ok:\n",
    "            self.__payload=json.loads(self.__res.text)\n",
    "            self.__curUpdateTime=self.__payload[\"cwbopendata\"][\"sent\"]\n",
    "            self.__prevUpdateTime=\"\"\n",
    "            if self.__prevUpdateTime is not self.__curUpdateTime:\n",
    "                self.__prevUpdateTime = self.__curUpdateTime\n",
    "                print(\"Update!\\nTime:{}\".format(payload[\"cwbopendata\"][\"sent\"]))\n",
    "                print(payload[\"cwbopendata\"][\"location\"])\n",
    "                location = payload[\"cwbopendata\"][\"location\"]\n",
    "            else:\n",
    "                print(\"No Update\")\n",
    "        else:\n",
    "            print(\"Error code:{}\".formate(res.status))\n",
    "        '''"
   ]
  },
  {
   "cell_type": "code",
   "execution_count": null,
   "metadata": {},
   "outputs": [],
   "source": []
  }
 ],
 "metadata": {
  "kernelspec": {
   "display_name": "my-virtualenv-name",
   "language": "python",
   "name": "my-virtualenv-name"
  },
  "language_info": {
   "codemirror_mode": {
    "name": "ipython",
    "version": 3
   },
   "file_extension": ".py",
   "mimetype": "text/x-python",
   "name": "python",
   "nbconvert_exporter": "python",
   "pygments_lexer": "ipython3",
   "version": "3.7.4"
  }
 },
 "nbformat": 4,
 "nbformat_minor": 2
}
