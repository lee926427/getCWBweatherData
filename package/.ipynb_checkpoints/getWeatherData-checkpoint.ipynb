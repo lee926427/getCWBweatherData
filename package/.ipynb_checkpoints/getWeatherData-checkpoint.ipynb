{
 "cells": [
  {
   "cell_type": "code",
   "execution_count": 60,
   "metadata": {},
   "outputs": [],
   "source": [
    "import requests"
   ]
  },
  {
   "cell_type": "code",
   "execution_count": 5,
   "metadata": {},
   "outputs": [],
   "source": [
    "class CwbOpenData():\n",
    "    def __init__(self,auth):\n",
    "        self.__url = \"https://opendata.cwb.gov.tw/fileapi/v1/opendataapi/O-A0003-001?Authorization={}&downloadType=WEB&format=JSON\".format(auth)\n",
    "    def update(self):\n",
    "        self.__res = requests.get(self.__url)\n",
    "        self.__prevUpdateTime=\"\"\n",
    "        print(self.__res.status_code)\n",
    "        if self.__res.status_code == requests.codes.ok:\n",
    "            self.__payload=self.__res.json()\n",
    "            self.__curUpdateTime=self.__payload[\"cwbopendata\"][\"sent\"]\n",
    "            if self.__prevUpdateTime is not self.__curUpdateTime:\n",
    "                self.__prevUpdateTime = self.__curUpdateTime\n",
    "                print(\"curUpdate  Time:{}\".format(self.__payload[\"cwbopendata\"][\"sent\"]))\n",
    "                print(\"prevUpdate Time:{}\".format(self.__prevUpdateTime))\n",
    "                return self.__payload[\"cwbopendata\"]\n",
    "            else:\n",
    "                print(\"No Update\")\n",
    "        else:\n",
    "            print(\"Error code:{}\".formate(res.status))"
   ]
  },
  {
   "cell_type": "code",
   "execution_count": null,
   "metadata": {},
   "outputs": [],
   "source": []
  }
 ],
 "metadata": {
  "kernelspec": {
   "display_name": "my-virtualenv-name",
   "language": "python",
   "name": "my-virtualenv-name"
  },
  "language_info": {
   "codemirror_mode": {
    "name": "ipython",
    "version": 3
   },
   "file_extension": ".py",
   "mimetype": "text/x-python",
   "name": "python",
   "nbconvert_exporter": "python",
   "pygments_lexer": "ipython3",
   "version": "3.7.4"
  }
 },
 "nbformat": 4,
 "nbformat_minor": 2
}
