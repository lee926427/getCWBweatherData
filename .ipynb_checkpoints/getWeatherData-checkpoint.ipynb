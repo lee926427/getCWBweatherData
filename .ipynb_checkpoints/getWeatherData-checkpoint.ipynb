{
 "cells": [
  {
   "cell_type": "code",
   "execution_count": 60,
   "metadata": {},
   "outputs": [],
   "source": [
    "import requests\n",
    "import json\n",
    "import pandas as pd"
   ]
  },
  {
   "cell_type": "code",
   "execution_count": 59,
   "metadata": {},
   "outputs": [],
   "source": [
    "#auth = \"CWB-8EE6A92A-B903-4AC3-ADF5-465DFF5987F2\"\n",
    "class CwbOpenData():\n",
    "    def __init__(self,auth):\n",
    "        self.__url = \"https://opendata.cwb.gov.tw/fileapi/v1/opendataapi/O-A0003-001?Authorization={}&downloadType=WEB&format=JSON\".format(auth)\n",
    "        self.__res = requests.get(self.__url)\n",
    "    def update(self):\n",
    "        if self.__res.status_code == requests.codes.ok:\n",
    "            self.__payload=json.loads(self.__res.text)\n",
    "            curUpdateTime=self.__payload[\"cwbopendata\"][\"sent\"]\n",
    "            prevUpdateTime=\"\"\n",
    "            if prevUpdateTime is not curUpdateTime:\n",
    "                prevUpdateTime = curUpdateTime\n",
    "                print(\"Update!\\nTime:{}\".format(payload[\"cwbopendata\"][\"sent\"]))\n",
    "                print(payload[\"cwbopendata\"][\"location\"])\n",
    "                location = payload[\"cwbopendata\"][\"location\"]\n",
    "            else:\n",
    "                print(\"No Update\")\n",
    "        else:\n",
    "            print(\"Error code:{}\".formate(res.status))"
   ]
  },
  {
   "cell_type": "code",
   "execution_count": null,
   "metadata": {},
   "outputs": [],
   "source": []
  }
 ],
 "metadata": {
  "kernelspec": {
   "display_name": "my-virtualenv-name",
   "language": "python",
   "name": "my-virtualenv-name"
  },
  "language_info": {
   "codemirror_mode": {
    "name": "ipython",
    "version": 3
   },
   "file_extension": ".py",
   "mimetype": "text/x-python",
   "name": "python",
   "nbconvert_exporter": "python",
   "pygments_lexer": "ipython3",
   "version": "3.7.4"
  }
 },
 "nbformat": 4,
 "nbformat_minor": 2
}
